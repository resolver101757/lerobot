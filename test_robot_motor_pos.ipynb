{
 "cells": [
  {
   "cell_type": "code",
   "execution_count": null,
   "id": "5a214896-94de-40f2-abde-879eed32d980",
   "metadata": {},
   "outputs": [],
   "source": []
  },
  {
   "cell_type": "code",
   "execution_count": 1,
   "id": "67d1bde4-acb3-4def-8a74-9deae9114ca1",
   "metadata": {
    "tags": []
   },
   "outputs": [],
   "source": [
    "from lerobot.common.robot_devices.motors.dynamixel import DynamixelMotorsBus\n",
    "from lerobot.common.robot_devices.motors.dynamixel import TorqueMode"
   ]
  },
  {
   "cell_type": "code",
   "execution_count": 13,
   "id": "b70172fa-deaa-4f0f-b2f9-8f55c32a78c7",
   "metadata": {
    "tags": []
   },
   "outputs": [
    {
     "name": "stdout",
     "output_type": "stream",
     "text": [
      "starting position\n",
      "motor   :   1    2    3    4    5    6\n",
      "Leader : [2073 1533 2030 3039 4360 2447]\n",
      "Follow : [4109 6717 -957 1028 1166  691]\n"
     ]
    }
   ],
   "source": [
    "\n",
    "\n",
    "leader_port = \"COM6\"\n",
    "follower_port = \"COM5\"\n",
    "\n",
    "leader_arm = DynamixelMotorsBus(\n",
    "    port=leader_port,\n",
    "    motors={\n",
    "        # name: (index, model)\n",
    "        \"shoulder_pan\": (1, \"xl330-m077\"),\n",
    "        \"shoulder_lift\": (2, \"xl330-m077\"),\n",
    "        \"elbow_flex\": (3, \"xl330-m077\"),\n",
    "        \"wrist_flex\": (4, \"xl330-m077\"),\n",
    "        \"wrist_roll\": (5, \"xl330-m077\"),\n",
    "        \"gripper\": (6, \"xl330-m077\"),\n",
    "    },\n",
    ")\n",
    "\n",
    "follower_arm = DynamixelMotorsBus(\n",
    "    port=follower_port,\n",
    "    motors={\n",
    "        # name: (index, model)\n",
    "        \"shoulder_pan\": (1, \"xl430-w250\"),\n",
    "        \"shoulder_lift\": (2, \"xl430-w250\"),\n",
    "        \"elbow_flex\": (3, \"xl330-m288\"),\n",
    "        \"wrist_flex\": (4, \"xl330-m288\"),\n",
    "        \"wrist_roll\": (5, \"xl330-m288\"),\n",
    "        \"gripper\": (6, \"xl330-m288\"),\n",
    "    },\n",
    ")\n",
    "\n",
    "leader_arm.connect()\n",
    "print(\"starting position\")\n",
    "print(\"motor   :   1    2    3    4    5    6\")\n",
    "\n",
    "print(\"Leader :\", leader_arm.read(\"Present_Position\"))\n",
    "\n",
    "follower_arm.connect()\n",
    "print(\"Follow :\", follower_arm.read(\"Present_Position\"))\n",
    "\n",
    "follower_arm.write(\"Torque_Enable\", TorqueMode.ENABLED.value)\n",
    "\n",
    "follower_arm.write(\"Goal_Position\", follower_arm.read(\"Present_Position\") + 30)\n",
    "\n",
    "# follower_arm.write(\"Goal_Position\", leader_arm.read(\"Present_Position\"))\n",
    "\n",
    "\n",
    "follower_arm.write(\"Torque_Enable\", TorqueMode.DISABLED.value)\n",
    "\n",
    "\n"
   ]
  },
  {
   "cell_type": "code",
   "execution_count": 17,
   "id": "5e7e5488-b49e-417c-b771-d3f1ccbab896",
   "metadata": {
    "tags": []
   },
   "outputs": [
    {
     "name": "stdout",
     "output_type": "stream",
     "text": [
      "Leader : [2073 1533 2030 3038 4361 2447]\n",
      "Follow : [4109 6715 -955  957 5214  -33]\n"
     ]
    }
   ],
   "source": [
    "print(\"Leader :\", leader_arm.read(\"Present_Position\"))\n",
    "print(\"Follow :\", follower_arm.read(\"Present_Position\"))"
   ]
  },
  {
   "cell_type": "code",
   "execution_count": null,
   "id": "808f90e1-1184-4b92-b060-b5f79c1b55d7",
   "metadata": {},
   "outputs": [],
   "source": []
  },
  {
   "cell_type": "code",
   "execution_count": null,
   "id": "ffa48f35-ffbb-4e48-acbe-39715bb0880b",
   "metadata": {},
   "outputs": [],
   "source": [
    "leader_arm.disconnect()\n",
    "follower_arm.disconnect()"
   ]
  }
 ],
 "metadata": {
  "kernelspec": {
   "display_name": "lerobot",
   "language": "python",
   "name": "lerobot"
  },
  "language_info": {
   "codemirror_mode": {
    "name": "ipython",
    "version": 3
   },
   "file_extension": ".py",
   "mimetype": "text/x-python",
   "name": "python",
   "nbconvert_exporter": "python",
   "pygments_lexer": "ipython3",
   "version": "3.10.14"
  }
 },
 "nbformat": 4,
 "nbformat_minor": 5
}
